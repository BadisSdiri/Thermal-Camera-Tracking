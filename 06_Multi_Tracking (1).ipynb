{
 "cells": [
  {
   "cell_type": "code",
   "execution_count": 1,
   "metadata": {},
   "outputs": [
    {
     "name": "stdout",
     "output_type": "stream",
     "text": [
      "Looking in indexes: https://pypi.tuna.tsinghua.edu.cn/simple\n",
      "Requirement already satisfied: opencv-contrib-python in c:\\users\\legion\\anaconda3\\lib\\site-packages (4.5.1.48)\n",
      "Requirement already satisfied: numpy>=1.17.3 in c:\\users\\legion\\anaconda3\\lib\\site-packages (from opencv-contrib-python) (1.19.2)\n",
      "Note: you may need to restart the kernel to use updated packages.\n"
     ]
    }
   ],
   "source": [
    "pip install opencv-contrib-python"
   ]
  },
  {
   "cell_type": "code",
   "execution_count": 2,
   "metadata": {
    "scrolled": true
   },
   "outputs": [
    {
     "name": "stdout",
     "output_type": "stream",
     "text": [
      "Default tracking algorithm MOSSE \n",
      "Available algorithms are: \n",
      "\n",
      "BOOSTING\n",
      "MIL\n",
      "KCF\n",
      "TLD\n",
      "MEADIANFLOW\n",
      "GOTURN\n",
      "MOSSE\n",
      "CSRT\n",
      "Cannot read the video\n"
     ]
    },
    {
     "ename": "error",
     "evalue": "OpenCV(4.5.1) C:\\Users\\appveyor\\AppData\\Local\\Temp\\1\\pip-req-build-kh7iq4w7\\opencv\\modules\\highgui\\src\\window.cpp:376: error: (-215:Assertion failed) size.width>0 && size.height>0 in function 'cv::imshow'\n",
     "output_type": "error",
     "traceback": [
      "\u001b[1;31m---------------------------------------------------------------------------\u001b[0m",
      "\u001b[1;31merror\u001b[0m                                     Traceback (most recent call last)",
      "\u001b[1;32m<ipython-input-2-cfa1bf7fe576>\u001b[0m in \u001b[0;36m<module>\u001b[1;34m\u001b[0m\n\u001b[0;32m     51\u001b[0m     \u001b[1;32mwhile\u001b[0m \u001b[1;32mTrue\u001b[0m\u001b[1;33m:\u001b[0m\u001b[1;33m\u001b[0m\u001b[1;33m\u001b[0m\u001b[0m\n\u001b[0;32m     52\u001b[0m \u001b[1;31m#drawing rctgs\u001b[0m\u001b[1;33m\u001b[0m\u001b[1;33m\u001b[0m\u001b[1;33m\u001b[0m\u001b[0m\n\u001b[1;32m---> 53\u001b[1;33m         \u001b[0mrect_box\u001b[0m \u001b[1;33m=\u001b[0m \u001b[0mcv2\u001b[0m\u001b[1;33m.\u001b[0m\u001b[0mselectROI\u001b[0m\u001b[1;33m(\u001b[0m\u001b[1;34m'MultiTracker'\u001b[0m\u001b[1;33m,\u001b[0m\u001b[0mframe\u001b[0m\u001b[1;33m)\u001b[0m\u001b[1;33m\u001b[0m\u001b[1;33m\u001b[0m\u001b[0m\n\u001b[0m\u001b[0;32m     54\u001b[0m         \u001b[0mrects\u001b[0m\u001b[1;33m.\u001b[0m\u001b[0mappend\u001b[0m\u001b[1;33m(\u001b[0m\u001b[0mrect_box\u001b[0m\u001b[1;33m)\u001b[0m\u001b[1;33m\u001b[0m\u001b[1;33m\u001b[0m\u001b[0m\n\u001b[0;32m     55\u001b[0m         \u001b[0mcolors\u001b[0m\u001b[1;33m.\u001b[0m\u001b[0mappend\u001b[0m\u001b[1;33m(\u001b[0m\u001b[1;33m(\u001b[0m\u001b[0mrandint\u001b[0m\u001b[1;33m(\u001b[0m\u001b[1;36m64\u001b[0m\u001b[1;33m,\u001b[0m\u001b[1;36m255\u001b[0m\u001b[1;33m)\u001b[0m\u001b[1;33m,\u001b[0m\u001b[0mrandint\u001b[0m\u001b[1;33m(\u001b[0m\u001b[1;36m64\u001b[0m\u001b[1;33m,\u001b[0m\u001b[1;36m255\u001b[0m\u001b[1;33m)\u001b[0m\u001b[1;33m,\u001b[0m\u001b[0mrandint\u001b[0m\u001b[1;33m(\u001b[0m\u001b[1;36m64\u001b[0m\u001b[1;33m,\u001b[0m\u001b[1;36m255\u001b[0m\u001b[1;33m)\u001b[0m\u001b[1;33m)\u001b[0m\u001b[1;33m)\u001b[0m\u001b[1;33m\u001b[0m\u001b[1;33m\u001b[0m\u001b[0m\n",
      "\u001b[1;31merror\u001b[0m: OpenCV(4.5.1) C:\\Users\\appveyor\\AppData\\Local\\Temp\\1\\pip-req-build-kh7iq4w7\\opencv\\modules\\highgui\\src\\window.cpp:376: error: (-215:Assertion failed) size.width>0 && size.height>0 in function 'cv::imshow'\n"
     ]
    }
   ],
   "source": [
    "import cv2\n",
    "import sys\n",
    "from random import randint\n",
    "#here we've the Tracker Types\n",
    "tracker_types  = ['BOOSTING',\n",
    "                 'MIL',\n",
    "                 'KCF',\n",
    "                 'TLD',\n",
    "                 'MEADIANFLOW',\n",
    "                 'GOTURN',\n",
    "                 'MOSSE',\n",
    "                 'CSRT']\n",
    "\n",
    "#and then Define trackers by name\n",
    "def tracker_name(tracker_type):\n",
    "    if tracker_type== tracker_types[0]:\n",
    "        tracker = cv2.TrackerBoosting_create()\n",
    "    elif tracker_type== tracker_types[1]:\n",
    "        tracker = cv2.TrackerMIL_create()\n",
    "    elif tracker_type== tracker_types[2]:\n",
    "        tracker = cv2.TrackerKCF_create()\n",
    "    elif tracker_type== tracker_types[3]:\n",
    "        tracker = cv2.TrackerTLD_create()\n",
    "    elif tracker_type== tracker_types[4]:\n",
    "        tracker = cv2.TrackerMedianFlow_create()   \n",
    "    elif tracker_type== tracker_types[5]:\n",
    "        tracker = cv2.TrackerBGOTURN_create()\n",
    "    elif tracker_type== tracker_types[6]:\n",
    "        tracker = cv2.TrackerMOSSE_create()\n",
    "    elif tracker_type== tracker_types[7]:\n",
    "        tracker = cv2.TrackerCSRT_create()    \n",
    "    else:\n",
    "        tracker = None\n",
    "        print('No tracker found')\n",
    "        print('Choose from these trackers: ')\n",
    "        for tr in tracker_types:\n",
    "            print(tr)\n",
    "    return tracker\n",
    "if __name__ == '__main__':\n",
    "    print(\"Default tracking algorithm MOSSE \\n\"\n",
    "         \"Available algorithms are: \\n\")\n",
    "    for ta in tracker_types:\n",
    "        print(ta)\n",
    "    trackerType = 'MIL'\n",
    "    cap = cv2.VideoCapture(0)\n",
    "    success,frame = cap.read()\n",
    "    if not success:\n",
    "        print('Cannot read the video')\n",
    "    rects=[]\n",
    "    colors=[]\n",
    "    while True:\n",
    "#drawing rctgs\n",
    "        rect_box = cv2.selectROI('MultiTracker',frame)\n",
    "        rects.append(rect_box)\n",
    "        colors.append((randint(64,255),randint(64,255),randint(64,255)))\n",
    "        print('Press q to stop selecting boxes and start multitracking')\n",
    "        print('Press any key to select another box0')\n",
    "        \n",
    "        if cv2.waitKey(0) & 0xFF == ord('q'):\n",
    "            break\n",
    "        \n",
    "    #her i'm printing a message\n",
    "    print(f'Selected boxes {rects}')\n",
    "    #and then i'm Creating multitracker\n",
    "    multitracker=cv2.MultiTracker_create()\n",
    "    #Initialize multitracker\n",
    "    for rect_box in rects:\n",
    "        multitracker.add(tracker_name(trackerType),\n",
    "                      frame,\n",
    "                      rect_box)  \n",
    "    while cap.isOpened():\n",
    "        success,frame = cap.read()\n",
    "        if not success:\n",
    "            break\n",
    "        #here i'm updating the location objects\n",
    "        success, boxes = multitracker.update(frame)\n",
    "        #and finally i'm drawing the objectes tracked\n",
    "        for i,newbox in enumerate(boxes):\n",
    "            pts1 = (int(newbox[0]),\n",
    "                    int(newbox[1]))\n",
    "            pts2 = (int(newbox[0]+newbox[2]),\n",
    "                    int(newbox[1]+newbox[3]))\n",
    "            cv2.rectangle(frame,\n",
    "                         pts1,\n",
    "                         pts2,\n",
    "                         colors[i],\n",
    "                         2,1)\n",
    "        cv2.imshow('camera', frame)\n",
    "\n",
    "        if cv2.waitKey(20) & 0xFF ==27:\n",
    "            break\n",
    "\n",
    "cap.release()\n",
    "cv2.destroyAllWindows()\n",
    "\n"
   ]
  },
  {
   "cell_type": "code",
   "execution_count": null,
   "metadata": {},
   "outputs": [],
   "source": []
  }
 ],
 "metadata": {
  "kernelspec": {
   "display_name": "Python 3",
   "language": "python",
   "name": "python3"
  },
  "language_info": {
   "codemirror_mode": {
    "name": "ipython",
    "version": 3
   },
   "file_extension": ".py",
   "mimetype": "text/x-python",
   "name": "python",
   "nbconvert_exporter": "python",
   "pygments_lexer": "ipython3",
   "version": "3.8.8"
  }
 },
 "nbformat": 4,
 "nbformat_minor": 4
}
